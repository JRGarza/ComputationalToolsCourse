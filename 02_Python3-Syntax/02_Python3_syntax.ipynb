{
 "cells": [
  {
   "cell_type": "markdown",
   "metadata": {},
   "source": [
    "# 2. Syntax of `python` 3"
   ]
  },
  {
   "cell_type": "markdown",
   "metadata": {},
   "source": [
    "\"Python is an interpreted, high-level and general-purpose programming language.\" \n",
    "\n",
    "Python is broadly used on the astronomy comunity as well as in other scientific areas and the industry.\n",
    "\n",
    "Here we will review how to approach python programming. "
   ]
  },
  {
   "cell_type": "markdown",
   "metadata": {},
   "source": [
    "###  $\\bullet$ Interactive interpreter\n",
    "To work with `python` we can create scripts as well as write commands in a command-line interpreter, as `python` does not need to be compiled. To call the interpreter on `bash` we can type just\n",
    "\n",
    "```bash\n",
    "python\n",
    "```\n",
    "\n",
    "We can use also the `ipython` interpreter that gives a nicer approach for the use. "
   ]
  },
  {
   "cell_type": "code",
   "execution_count": null,
   "metadata": {},
   "outputs": [],
   "source": []
  }
 ],
 "metadata": {
  "kernelspec": {
   "display_name": "Python 3",
   "language": "python",
   "name": "python3"
  },
  "language_info": {
   "codemirror_mode": {
    "name": "ipython",
    "version": 3
   },
   "file_extension": ".py",
   "mimetype": "text/x-python",
   "name": "python",
   "nbconvert_exporter": "python",
   "pygments_lexer": "ipython3",
   "version": "3.7.3"
  }
 },
 "nbformat": 4,
 "nbformat_minor": 2
}
