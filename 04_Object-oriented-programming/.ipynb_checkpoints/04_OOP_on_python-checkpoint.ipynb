{
 "cells": [
  {
   "cell_type": "markdown",
   "metadata": {},
   "source": [
    "# 4. Basics on object-oriented programming with `python`\n",
    "\n",
    "Object-oriented programming by itself needs a whole course dedicated to it in order to get a deep understanding of such tool. In this section we will see concepts related with this topic in a simplistic way.\n"
   ]
  },
  {
   "cell_type": "markdown",
   "metadata": {},
   "source": [
    "## 4.1 Classes and objects\n",
    "\n",
    "An `object` is a **colection of variables and functions**. The elements of an object, such variables and functions, are called `attributes`. The `attributes` that are callable, that are the functions, are known as `methods`. It is important to know this concepts as they are the basics on object-oriented programing.\n",
    "\n",
    "In python **everything is an object**. That means that any stuff in python is a colection of `variables` and `functions`.\n",
    "\n",
    "For example:"
   ]
  },
  {
   "cell_type": "code",
   "execution_count": null,
   "metadata": {},
   "outputs": [],
   "source": [
    "# Let's consider the following string \n",
    "s = 'hello world!'"
   ]
  },
  {
   "cell_type": "markdown",
   "metadata": {},
   "source": [
    " `s` is formed by the variable that contains the string and by the `attributes` that can be called (`methods`) for such object. For example the method `upper`:"
   ]
  },
  {
   "cell_type": "code",
   "execution_count": null,
   "metadata": {},
   "outputs": [],
   "source": [
    "s.upper()"
   ]
  },
  {
   "cell_type": "markdown",
   "metadata": {},
   "source": [
    "The object `s` has the variable that contains the string that we assigned to it, and also it contains all the `methods` that can be used on the string and those are functions. As `s` is a collection of `variables` and `functions`, therefore `s` is an `object`.\n",
    "\n",
    "If we want to create a customized object we need to define a `class`. The simple way to see a `class` is as a factory of objects. But in a `class` is a blueprint of an `instance`. \n",
    "\n",
    "An `instance` is a constructed object of a given `class`. We can use the function `type` to extract the `class` an `instance` belongs to. \n",
    "\n",
    "For example"
   ]
  },
  {
   "cell_type": "code",
   "execution_count": null,
   "metadata": {},
   "outputs": [],
   "source": [
    "type(s)"
   ]
  },
  {
   "cell_type": "markdown",
   "metadata": {},
   "source": [
    "In a general sence the `type` of `s` says that the `instance`, or constructed `object`, `s` belongs to a class called `str`.\n",
    "\n",
    "A `class` can be defined in python as\n",
    "\n",
    "```python\n",
    "class NewClassName(object):\n",
    "    variable_1 = value_1\n",
    "    variable_2 = value_2\n",
    "    variable_3 = value_3\n",
    "    \n",
    "    def function_1(self, arg1, arg2, arg3):\n",
    "        # code here\n",
    "        \n",
    "    def function_2(self, arg1, arg2, arg3):\n",
    "        # code here\n",
    "        \n",
    "    def function_3(self, arg1, arg2, arg3):\n",
    "        # code here\n",
    "```\n",
    "\n",
    "To add a `variable` as an `attribute` of an `instance` we add each variable defining their value inside the class.\n",
    "\n",
    "To add a `function` as a `method` of an `instance` we need to add `self` as the first argument of the function. When we call a `method` as `Object.method()` we are giving `Object` itslef as the first argument of the `method`, as such function acts on the `object`.\n",
    "\n",
    "### Example:"
   ]
  },
  {
   "cell_type": "markdown",
   "metadata": {},
   "source": [
    "need to use the syntax of `self.name_of_the_variable`, where `self` refers to the constructed `object` such that we are adding `name_of_the_variable` as an attribute of the constructed `object`."
   ]
  },
  {
   "cell_type": "code",
   "execution_count": null,
   "metadata": {},
   "outputs": [],
   "source": [
    "from astropy import units as u\n",
    "from astropy import constants as cnt\n",
    "import numpy as np\n",
    "\n",
    "\"\"\"\n",
    "Here we are going to define the class Star with some attributes\n",
    "\"\"\"\n",
    "class Star(object):\n",
    "    mass = 1 * cnt.M_sun\n",
    "    radius = 1 * cnt.R_sun\n",
    "    T_eff = 6000 * u.K\n",
    "    \n",
    "    def luminosity(self):\n",
    "        L = 4 * np.pi * self.radius**2. * cnt.sigma_sb * self.T_eff**4.0\n",
    "        L = L.to('W')\n",
    "        \n",
    "        return L"
   ]
  },
  {
   "cell_type": "code",
   "execution_count": null,
   "metadata": {},
   "outputs": [],
   "source": [
    "# Now we need to construct an object, such is fone by assigning an instance to a variable\n",
    "# the following creates the object star of class Star\n",
    "star = Star()"
   ]
  },
  {
   "cell_type": "code",
   "execution_count": null,
   "metadata": {},
   "outputs": [],
   "source": [
    "# Let's veryfy that star belongs to the class Star\n",
    "type(star)"
   ]
  },
  {
   "cell_type": "markdown",
   "metadata": {},
   "source": [
    "Now we can access the attributes of the object star"
   ]
  },
  {
   "cell_type": "code",
   "execution_count": null,
   "metadata": {},
   "outputs": [],
   "source": [
    "star.mass"
   ]
  },
  {
   "cell_type": "code",
   "execution_count": null,
   "metadata": {},
   "outputs": [],
   "source": [
    "star.radius"
   ]
  },
  {
   "cell_type": "code",
   "execution_count": null,
   "metadata": {},
   "outputs": [],
   "source": [
    "star.T_eff"
   ]
  },
  {
   "cell_type": "code",
   "execution_count": null,
   "metadata": {},
   "outputs": [],
   "source": [
    "star.luminosity()"
   ]
  },
  {
   "cell_type": "markdown",
   "metadata": {},
   "source": [
    "### 4.2 Special methods: `__init__` , `__call__`\n",
    "\n",
    "Taking the previous example, when the object `star` is created in \n",
    "```python\n",
    "star = Star()\n",
    "```\n",
    "all the attributes of the objects are defined while defining the `class`. Is we want to **initialize** a class, that means that the user is able to give some attributes while creating an object, we need to use the special method `__ini__`. As it is a `method`, it is defined as such.\n",
    "\n",
    "```python\n",
    "class NewClassName(object):\n",
    "    \n",
    "    def __init__(self, value_1, value_2, value_3):\n",
    "        self.variable_1 = value_1\n",
    "        self.variable_2 = value_2\n",
    "        self.variable_3 = value_3\n",
    "\n",
    "```\n",
    "\n",
    "And the user creates an object as\n",
    "\n",
    "```python\n",
    "newObject = NewClassName( value_1 , value_2 , value_3)\n",
    "```\n",
    "such that the user is able to give the values `value_1` , `value_2` , `value_3` while creating the object. The values can be changed any time the user creates a new object.\n",
    "\n",
    "As an example we are going to modify the `Star` class such that the user can give the stellar parameters while defining an object:"
   ]
  },
  {
   "cell_type": "code",
   "execution_count": null,
   "metadata": {},
   "outputs": [],
   "source": [
    "class Star(object):\n",
    "    def __init__(self , mass , radius , T_eff):\n",
    "        self.mass= mass * cnt.M_sun\n",
    "        self.radius= radius * cnt.R_sun\n",
    "        self.T_eff = T_eff * u.K\n",
    "    \n",
    "    def luminosity(self):\n",
    "        L = 4 * np.pi * self.radius**2. * cnt.sigma_sb * self.T_eff**4.0\n",
    "        L = L.to('W')\n",
    "        \n",
    "        return L"
   ]
  },
  {
   "cell_type": "code",
   "execution_count": null,
   "metadata": {},
   "outputs": [],
   "source": [
    "# the following creates the object star of class Star \n",
    "# with mass = 3, radius = 10, T_eff = 8000\n",
    "star = Star( 3 , 10 , 8000 )"
   ]
  },
  {
   "cell_type": "code",
   "execution_count": null,
   "metadata": {},
   "outputs": [],
   "source": [
    "star.mass"
   ]
  },
  {
   "cell_type": "code",
   "execution_count": null,
   "metadata": {},
   "outputs": [],
   "source": [
    "star.radius"
   ]
  },
  {
   "cell_type": "code",
   "execution_count": null,
   "metadata": {},
   "outputs": [],
   "source": [
    "star.T_eff"
   ]
  },
  {
   "cell_type": "code",
   "execution_count": null,
   "metadata": {},
   "outputs": [],
   "source": [
    "star.luminosity()"
   ]
  },
  {
   "cell_type": "markdown",
   "metadata": {},
   "source": [
    "We saw how to define and access the attributes an object has. But an object can also **act as a function itself**. To give to an object the ability to be called as a function we need the special method `__call__`.\n",
    "\n",
    "`__call__` defines what to do if the `object` is called as a function.\n",
    "\n",
    "As an example we will modify the `Star` class such that when an object created with it is called as a class it prints all the propierties of the star in a understandable way to the user."
   ]
  },
  {
   "cell_type": "code",
   "execution_count": null,
   "metadata": {},
   "outputs": [],
   "source": [
    "class Star(object):\n",
    "    def __init__(self , mass , radius , T_eff):\n",
    "        self.mass= mass * cnt.M_sun\n",
    "        self.radius= radius * cnt.R_sun\n",
    "        self.T_eff = T_eff * u.K\n",
    "        \n",
    "    def __call__(self , print_luminosity = False):\n",
    "        print('Star')\n",
    "        print('_____________________')\n",
    "        print('Mass : ',star.mass.to('M_sun') )\n",
    "        print('Radius : ',star.radius.to('R_sun') )\n",
    "        print('T_eff : ',star.T_eff.to('K') )\n",
    "        \n",
    "        if print_luminosity :\n",
    "            print('L : ',star.luminosity().to('W') )\n",
    "        print('_____________________')\n",
    "    \n",
    "    def luminosity(self):\n",
    "        L = 4 * np.pi * self.radius**2. * cnt.sigma_sb * self.T_eff**4.0\n",
    "        L = L.to('W')\n",
    "        \n",
    "        return L"
   ]
  },
  {
   "cell_type": "code",
   "execution_count": null,
   "metadata": {},
   "outputs": [],
   "source": [
    "# the following creates the object star of class Star \n",
    "# with mass = 3, radius = 10, T_eff = 8000\n",
    "star = Star( 3 , 10 , 8000 )"
   ]
  },
  {
   "cell_type": "code",
   "execution_count": null,
   "metadata": {},
   "outputs": [],
   "source": [
    "# Let's call the object star as a function and set print_luminosity to True\n",
    "star( print_luminosity = True )"
   ]
  }
 ],
 "metadata": {
  "kernelspec": {
   "display_name": "Python 3",
   "language": "python",
   "name": "python3"
  },
  "language_info": {
   "codemirror_mode": {
    "name": "ipython",
    "version": 3
   },
   "file_extension": ".py",
   "mimetype": "text/x-python",
   "name": "python",
   "nbconvert_exporter": "python",
   "pygments_lexer": "ipython3",
   "version": "3.7.3"
  }
 },
 "nbformat": 4,
 "nbformat_minor": 2
}
