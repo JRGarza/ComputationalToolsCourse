{
 "cells": [
  {
   "cell_type": "markdown",
   "metadata": {},
   "source": [
    "# 3. Modules of `python`  applied to astrophysics"
   ]
  },
  {
   "cell_type": "markdown",
   "metadata": {},
   "source": [
    "In this section we will do some excercises linked to astrophysical problems to see the importance of learning how to use the modules `numpy`, `matplotlib`, `astropy`, `pandas`, and others.\n",
    "\n",
    "It is important to note that the aim of this course is not to give a broad explanation on all the functiona available on each module. We encourage you to see the documentation of each module if you need more specific information on this subject.\n",
    "\n",
    "`numpy` : https://numpy.org/doc/\n",
    "\n",
    "`matplotlib` : https://matplotlib.org/contents\n",
    "\n",
    "`pandas` : https://pandas.pydata.org/docs/\n",
    "\n",
    "`astropy` : https://docs.astropy.org/en/stable/\n",
    "\n",
    "___"
   ]
  },
  {
   "cell_type": "markdown",
   "metadata": {},
   "source": [
    "## 3.1 Isolated binary evolution and gravitational wave sources\n",
    "by Jaime\n",
    "\n",
    "In the folowing excercise we will use the date from simulated binary stars. Such simulations were done by using the code `cosmic` (Breivik et al. 2020) to learn more about the code please see : https://cosmic-popsynth.github.io/"
   ]
  },
  {
   "cell_type": "code",
   "execution_count": null,
   "metadata": {},
   "outputs": [],
   "source": [
    "import numpy as np\n",
    "import matplotlib.pyplot as plt\n",
    "import pandas as pd"
   ]
  },
  {
   "cell_type": "markdown",
   "metadata": {},
   "source": [
    "First we will use `pandas` to import the data that is in the file `binaries.csv`"
   ]
  },
  {
   "cell_type": "code",
   "execution_count": null,
   "metadata": {},
   "outputs": [],
   "source": [
    "binaries = pd.read_csv('binaries.csv' , index_col = 0) #index_col = 0 is used to tell the function to take the column 0 as the index column"
   ]
  },
  {
   "cell_type": "code",
   "execution_count": null,
   "metadata": {},
   "outputs": [],
   "source": [
    "\"\"\"\n",
    "The binaries variable where the data is storaged is called a DataFrame. Such\n",
    "type is how pandas give structure to a data table. It is similar to numpy arrays\n",
    "but you can mix the data type of the elements inside a column. It is more \n",
    "convenient to use DataFrames while working with data as it is more clear when \n",
    "we call a certain column or set \n",
    "\"\"\"\n",
    "type(binaries)"
   ]
  },
  {
   "cell_type": "code",
   "execution_count": null,
   "metadata": {
    "scrolled": true
   },
   "outputs": [],
   "source": [
    "binaries"
   ]
  },
  {
   "cell_type": "markdown",
   "metadata": {},
   "source": [
    "The column `bin_num` refers to the index of each binary, as here we have each evolutionary step for each binary.\n",
    "\n",
    "For example if we display all the information where `bin_num = 0` we will print the whole evolution of the first (0th) binary. If we want the info of the 100th binary star then we need to show where `bin_num = 99`.\n",
    "\n",
    "A brief description on the columns of `binaries` DataDrame:\n",
    "\n",
    "- `tphys` is the physical time of the evolution of the binary after the birth, i.e. the start of core H burning. The units are $Myr$.\n",
    "\n",
    "- `mass_1` and `mass_2` is the mass of each star in the binary. The units are $M_\\odot$.\n",
    "\n",
    "- `kstar_1` and `kstar_2` are the evolutionary state of each star respectivaly. Each state is described as:\n",
    "\n",
    "    -`MS` : Main Sequence\n",
    "    \n",
    "    -`HGap` : Hertzsprung Gap\n",
    "    \n",
    "    -`fGB` : first Giant Branch\n",
    "    \n",
    "    -`cHeBurn` : core He Burning\n",
    "    \n",
    "    -`eAGB` : early Asymptotic Giant Branch\n",
    "    \n",
    "    -`TPAGB` : Thermally Pulsing AGB\n",
    "    \n",
    "    -`HeMS` : naked He Main Sequence star\n",
    "    \n",
    "    -`PostHeMS` : naked He  Post Main Sequence star\n",
    "    \n",
    "    -`WD` : White Dwarf\n",
    "    \n",
    "    -`BH` : Black Hole\n",
    "    \n",
    "    -`MlessRmnt` : Massless Remnant\n",
    "    \n",
    "    \n",
    "- `sep` is the orbital separation of the binary. The units are $R_\\odot$.\n",
    "\n",
    "- `ecc` is the eccentricity of the orbit.\n",
    "\n",
    "There are a lot of other parameters but we will not take them into account. "
   ]
  },
  {
   "cell_type": "code",
   "execution_count": null,
   "metadata": {},
   "outputs": [],
   "source": [
    "\"\"\"\n",
    "To see all the columns that the DataFrame has you can use the columns atribute \n",
    "\"\"\"\n",
    "binaries.columns"
   ]
  },
  {
   "cell_type": "markdown",
   "metadata": {},
   "source": [
    "To access the data inside a DataFrame we use the folowing syntax:\n",
    "\n",
    "```python\n",
    "DataFrame[ condition ]\n",
    "```\n",
    "\n",
    "In contrast to `numpy` arrays and `lists` the DataFrame does not search in terms of indices but in terms of **logical conditions**. The `condition` is a logical expresion that gives an array of booleans the same size as the number of rows in the DataFrame.\n",
    "\n",
    "If we want to print the information of the first binary, that is `bin_num = 0` then we type:"
   ]
  },
  {
   "cell_type": "code",
   "execution_count": null,
   "metadata": {
    "scrolled": false
   },
   "outputs": [],
   "source": [
    "binaries[ binaries['bin_num'] == 0 ]"
   ]
  },
  {
   "cell_type": "markdown",
   "metadata": {},
   "source": [
    "If we want to print the information given the index of a column then we have to use the `loc[]` method, as\n",
    "\n",
    "```python\n",
    "DataFrame.loc[ rows , columns_to_print ]\n",
    "```\n",
    "\n",
    "where \n",
    "\n",
    "- `rows` is the index row, or array of indices, of the columns to print.\n",
    "- `columns_to_print` is the name of the column, or array of the names of the column, to print. If tou want to print all columns then use `:`\n",
    "\n",
    "\n",
    "To print all the columns for the first row we type:"
   ]
  },
  {
   "cell_type": "code",
   "execution_count": null,
   "metadata": {
    "scrolled": false
   },
   "outputs": [],
   "source": [
    "binaries.loc[ 0 , : ]"
   ]
  },
  {
   "cell_type": "markdown",
   "metadata": {},
   "source": [
    "If I want to print the eccentricity and physical time only for the first, 10th and 20th rows then I type:"
   ]
  },
  {
   "cell_type": "code",
   "execution_count": null,
   "metadata": {},
   "outputs": [],
   "source": [
    "binaries.loc[ [0 , 9, 19] , ['ecc', 'tphys'] ]"
   ]
  },
  {
   "cell_type": "markdown",
   "metadata": {},
   "source": [
    "The index of a given row can be extracted with the `index` method as\n",
    "```python\n",
    "DataFrame[ condition ].index \n",
    "```\n",
    "\n",
    "For example, to get the indices of all phases when `tphys = 0` we type"
   ]
  },
  {
   "cell_type": "code",
   "execution_count": null,
   "metadata": {},
   "outputs": [],
   "source": [
    "binaries[ binaries['tphys'] == 0.0 ].index"
   ]
  },
  {
   "cell_type": "markdown",
   "metadata": {},
   "source": [
    "___"
   ]
  },
  {
   "cell_type": "markdown",
   "metadata": {},
   "source": [
    "**Next task:*** lets plot the distribution of the initial eccentricities, that is all `ecc` at `tphys = 0`. To do that we will use the `hist` function from `matplotlib.pyplot`. This is a very simple way to plot an histogram, as we only need the data to distribute:\n",
    "\n",
    "```python\n",
    "plt.hist( data , bins )\n",
    "```\n",
    "\n",
    "where:\n",
    "\n",
    "- `data` is the data to distribute in the histogram.\n",
    "- `bins` is the criterion to compute how many bins the histogram will have\n",
    "\n",
    "For more information onthis function please see https://matplotlib.org/3.3.1/api/_as_gen/matplotlib.pyplot.hist.html"
   ]
  },
  {
   "cell_type": "code",
   "execution_count": null,
   "metadata": {},
   "outputs": [],
   "source": [
    "plt.figure(figsize=(12,7))\n",
    "\n",
    "plt.xticks( fontsize = 20 )\n",
    "plt.yticks( [] , fontsize = 20 )\n",
    "\n",
    "plt.xlabel(r'$e_{initial}$' , fontsize = 25)\n",
    "\n",
    "\n",
    "plt.xlim(0 , 1)\n",
    "\n",
    "plt.hist(binaries[ binaries['tphys'] == 0.0 ]['ecc'] , bins='sqrt', label = 'ecc')\n",
    "\n",
    "plt.legend(fontsize = 20) # this adds the label linked to the legend of the histogram\n",
    "plt.show()"
   ]
  },
  {
   "cell_type": "markdown",
   "metadata": {},
   "source": [
    "## Ex. Plot the distribution of initial masses for `star_1` and `star_2` in the same figure with different collors and different labels."
   ]
  },
  {
   "cell_type": "code",
   "execution_count": null,
   "metadata": {},
   "outputs": [],
   "source": [
    "\"\"\"\n",
    "Your code here\n",
    "\"\"\" "
   ]
  },
  {
   "cell_type": "markdown",
   "metadata": {},
   "source": [
    "## Ex. Plot the distribution of initial mass ratio $q \\equiv M_{min} / M_{max}$\n",
    "### where $M_{min}$ is the mass of the less massive star in the binary, and $M_{max}$ is the mass of the most massive star in the binary."
   ]
  },
  {
   "cell_type": "code",
   "execution_count": null,
   "metadata": {},
   "outputs": [],
   "source": [
    "\"\"\"\n",
    "Your code here\n",
    "\"\"\" "
   ]
  },
  {
   "cell_type": "markdown",
   "metadata": {},
   "source": [
    "We want extract the ammount of binaries that form binary black-holes in closed orbits. The columns `kstar_1` and `kstar_2` encode the information of the evolutionary phase of each star. If `star_1` is a black-hole then `kstar_1 = BH`. A binary black hole is a system where `kstar_1 = BH` and `kstar_2 = BH`. In a closed orbit the eccentricity $e$ is in the range $[0,1)$."
   ]
  },
  {
   "cell_type": "code",
   "execution_count": null,
   "metadata": {
    "scrolled": true
   },
   "outputs": [],
   "source": [
    "binaries[(binaries['kstar_1'] == 'BH') & (binaries['kstar_2'] == 'BH') & \n",
    "         (binaries['ecc'] >= 0) & (binaries['ecc'] < 1 ) ]['bin_num']"
   ]
  },
  {
   "cell_type": "markdown",
   "metadata": {},
   "source": [
    "In the previous result we have all the `bin_num` that correspond to binary black-holes in closed orbits. We can see that the values are repeated this is because there is a evolutionary step printed in the table from the formation of the second black-hole the final physical time used to run the simulation. \n",
    "\n",
    "If we want to display the `bin_num` values, we can use the `unique` function form `numpy`. Such function takes an array and displays its values without any repetition."
   ]
  },
  {
   "cell_type": "code",
   "execution_count": null,
   "metadata": {},
   "outputs": [],
   "source": [
    "np.unique(binaries[(binaries['kstar_1'] == 'BH') & (binaries['kstar_2'] == 'BH') & \n",
    "                   (binaries['ecc'] >= 0) & (binaries['ecc'] < 1 ) ]['bin_num'])"
   ]
  },
  {
   "cell_type": "markdown",
   "metadata": {},
   "source": [
    "Now let's save such `bin_num` values in a variable called `BBH`"
   ]
  },
  {
   "cell_type": "code",
   "execution_count": null,
   "metadata": {},
   "outputs": [],
   "source": [
    "BBH = np.unique(binaries[(binaries['kstar_1'] == 'BH') & (binaries['kstar_2'] == 'BH') & \n",
    "                   (binaries['ecc'] >= 0) & (binaries['ecc'] < 1 ) ]['bin_num'])"
   ]
  },
  {
   "cell_type": "code",
   "execution_count": null,
   "metadata": {},
   "outputs": [],
   "source": [
    "print(f'The number of binary black-holes in closed orbits is {len(BBH)}')"
   ]
  },
  {
   "cell_type": "markdown",
   "metadata": {},
   "source": [
    "___"
   ]
  },
  {
   "cell_type": "markdown",
   "metadata": {},
   "source": [
    "Let's display the whole evolution of one of binary black-hole progenitor:"
   ]
  },
  {
   "cell_type": "code",
   "execution_count": null,
   "metadata": {
    "scrolled": false
   },
   "outputs": [],
   "source": [
    "binaries[ binaries['bin_num'] == BBH[0] ]"
   ]
  },
  {
   "cell_type": "markdown",
   "metadata": {},
   "source": [
    "Now let's get the information of the binary just when the binary black-holes has been created. As black-holes are formed from massive stars, such massive stars evolve quickly, let's consider that the binary black-hole has to be formed in less than $100\\ Myr$, so we are searching for a step with `tphys < 100`, `kstar_1 = BH`, `kstar_2 = BH` for the binary displayed above."
   ]
  },
  {
   "cell_type": "code",
   "execution_count": null,
   "metadata": {},
   "outputs": [],
   "source": [
    "binaries[(binaries['bin_num'] == BBH[0]) & \n",
    "         (binaries['kstar_1'] == 'BH') & \n",
    "         (binaries['kstar_2'] == 'BH') & \n",
    "         (binaries['tphys'] < 100)]"
   ]
  },
  {
   "cell_type": "markdown",
   "metadata": {},
   "source": [
    "Let's save the previous information in a variable called `BBH_binary`"
   ]
  },
  {
   "cell_type": "code",
   "execution_count": null,
   "metadata": {},
   "outputs": [],
   "source": [
    "BBH_binary = binaries[(binaries['bin_num'] == BBH[0]) & \n",
    "                      (binaries['kstar_1'] == 'BH') & \n",
    "                      (binaries['kstar_2'] == 'BH') & \n",
    "                      (binaries['tphys'] < 100)]"
   ]
  },
  {
   "cell_type": "markdown",
   "metadata": {},
   "source": [
    "If we consider that the binary black-hole is in a isolated environment then the change on its orbit will not depend on any external interaction. The orbital separation will shrink due to angular momentum loss by gravitational wave radiation. The time it takes for the binary to merge, i.e. readh an orbital separation of zero, due to gravitational wave radiation is given by (Peters, 1964) as\n",
    "\n",
    "# $T_{merger}(a , e , m_{BH,1} , m_{BH,2}) = \\frac{12}{19} \\frac{c_0^4}{\\beta} \\int_0^e \\frac{e'^{\\frac{29}{19}} (1 + (121\\ /\\ 304) e'^4 )^{1181\\ /\\ 2299}}{ (1-e'^2)^{3/2} } de'$\n",
    "\n",
    "where\n",
    "\n",
    "# $\\frac{1}{c_0} \\equiv \\frac{a\\ e^{12/19} }{1-e^2} \\left( 1 +\\frac{121}{304} e^2 \\right)^{870\\ /\\ 2299}$\n",
    "\n",
    "# $\\beta \\equiv \\frac{64}{5} \\frac{G^3\\ m_{BH,1}\\ m_{BH,2}\\ (m_{BH,1} + m_{BH,2})}{c^5}$\n",
    "\n",
    "and \n",
    "- $a$ is the orbital separation of the binary,\n",
    "- $e$ is the eccentricity of the binary,\n",
    "- $m_{BH,1}$ and $m_{BH,1}$ are the masses of each black-hole\n",
    "\n",
    "# Ex. Create a function that computes the time it takes for the binary black-hole to merge due to gravitational wave radiation after the formation of the second black-hole."
   ]
  },
  {
   "cell_type": "markdown",
   "metadata": {},
   "source": [
    "First, some help. You can use the `astropy` units and constants to make the operations easier. The masses of each object in the binary table are given in $M_\\odot$, and the obital separation `sep` is given in $R_\\odot$. \n",
    "\n",
    "The computation of $\\beta$ will be given bellow as an example "
   ]
  },
  {
   "cell_type": "code",
   "execution_count": null,
   "metadata": {},
   "outputs": [],
   "source": [
    "import astropy.units as u\n",
    "import astropy.constants as cnt"
   ]
  },
  {
   "cell_type": "code",
   "execution_count": null,
   "metadata": {},
   "outputs": [],
   "source": [
    "mass_BH1 = float(BBH_binary['mass_1']) * cnt.M_sun # We need to convert the BBH_binary['mass_1'] to float\n",
    "mass_BH2 = float(BBH_binary['mass_2']) * cnt.M_sun # as pandas DataFrames are not compatible with astropy units\n",
    "a = float(BBH_binary['sep']) * cnt.R_sun\n",
    "e = float(BBH_binary['ecc']) \n",
    "\n",
    "G = cnt.G\n",
    "c = cnt.c"
   ]
  },
  {
   "cell_type": "code",
   "execution_count": null,
   "metadata": {},
   "outputs": [],
   "source": [
    "beta = (64./5.)*(G**3 * mass_BH1 * mass_BH2 * (mass_BH1 + mass_BH2))/(c**5)\n",
    "beta"
   ]
  },
  {
   "cell_type": "markdown",
   "metadata": {},
   "source": [
    "To perform the integral you can use you can use `scipy.integrate.quad`, the documentation of the function is here: https://docs.scipy.org/doc/scipy/reference/generated/scipy.integrate.quad.html\n",
    "\n",
    "As an example, you can compute $\\int_0^4\\ x^2\\ dx$ with such function as"
   ]
  },
  {
   "cell_type": "code",
   "execution_count": null,
   "metadata": {},
   "outputs": [],
   "source": [
    "from scipy import integrate\n",
    "x2 = lambda x: x**2\n",
    "integral = integrate.quad(x2, 0, 4)\n",
    "\n",
    "print(f'The result of the integral is {integral[0]}')"
   ]
  },
  {
   "cell_type": "code",
   "execution_count": null,
   "metadata": {},
   "outputs": [],
   "source": [
    "\"\"\"\n",
    "Write your code in this cell\n",
    "\"\"\""
   ]
  },
  {
   "cell_type": "code",
   "execution_count": null,
   "metadata": {},
   "outputs": [],
   "source": [
    "BBH_binary['sep']"
   ]
  },
  {
   "cell_type": "markdown",
   "metadata": {},
   "source": [
    "## Is $T_{merger}$ less than the age of the Universe?\n",
    "\n",
    "You can use the `astropy.cosmology` to get cosmological parameters. As a first order the age of the Univers is\n",
    "## $t \\sim \\frac{1}{H_0}$\n",
    "where $H_0$ is the Hubble constant."
   ]
  },
  {
   "cell_type": "code",
   "execution_count": null,
   "metadata": {},
   "outputs": [],
   "source": [
    "from astropy.cosmology import Planck13 as cosmo\n",
    "\n",
    "cosmic_age = (1. / cosmo.H(0)).to('Gyr')\n",
    "\n",
    "print(f'The age of the Universe is {cosmic_age}')"
   ]
  },
  {
   "cell_type": "markdown",
   "metadata": {},
   "source": [
    "___"
   ]
  },
  {
   "cell_type": "markdown",
   "metadata": {},
   "source": [
    "Now compute $T_{merger}$ for all binary black-holes that you found in the data"
   ]
  },
  {
   "cell_type": "code",
   "execution_count": null,
   "metadata": {},
   "outputs": [],
   "source": [
    "\"\"\"\n",
    "Write your code in this cell\n",
    "\"\"\"\n"
   ]
  },
  {
   "cell_type": "markdown",
   "metadata": {},
   "source": [
    "### Final note:\n",
    "\n",
    "Binary population studies for gravitational wave sources use a similar analysis to the one described in this excercise. Works, such as \n",
    "\n",
    "    Giacobbo, N., & Mapelli, M. (2018). The progenitors of compact-object binaries: impact of metallicity, common envelope and natal kicks. Monthly Notices of the Royal Astronomical Society, 480(2), 2011-2030.\n",
    "    \n",
    "distribute compact binaries with in star formation history of the Universe and assume a cosmology to predict the merger densities of compact binaries.\n",
    "\n",
    "In the paper\n",
    "\n",
    "    Bavera, S. S., Fragos, T., Qin, Y., Zapartas, E., Neijssel, C. J., Mandel, I., ... & Stevenson, S. (2020). The origin of spin in binary black holes-Predicting the distributions of the main observables of Advanced LIGO. Astronomy & Astrophysics, 635, A97.\n",
    "   \n",
    "The expected merger desnities for binary black-holes are convoluted with the LIGO sensitivity to predict the rates of observed gravitational wave signals for LIGO. "
   ]
  },
  {
   "cell_type": "markdown",
   "metadata": {},
   "source": [
    "___\n",
    "___"
   ]
  },
  {
   "cell_type": "markdown",
   "metadata": {},
   "source": [
    "## 3.2 Asteroseimology\n",
    "by Loïc"
   ]
  },
  {
   "cell_type": "markdown",
   "metadata": {},
   "source": [
    "### Part 1:\n",
    "In this notebook we going to learn to create and write on .txt files or files without any extension. Let's imagine that a software analyses a rotation profil to compute for exemple the expected stellar oscillations(this occur in  asteroseimology). We are going to write a file composed of a normalized radius and a rotation profil that the software can read, its structure should be the following:"
   ]
  },
  {
   "cell_type": "markdown",
   "metadata": {},
   "source": [
    "```\n",
    "#   nomalized radius         corresponding rotation\n",
    "#\n",
    "number of points in the radius\n",
    "nomalized_radius_data   corresponding_rotation_data\n",
    "```"
   ]
  },
  {
   "cell_type": "markdown",
   "metadata": {},
   "source": [
    "Let's first import the packages used here and define a rotation profile:"
   ]
  },
  {
   "cell_type": "code",
   "execution_count": null,
   "metadata": {},
   "outputs": [],
   "source": [
    "import numpy as np \n",
    "import matplotlib.pylab as plt\n",
    "import glob\n",
    "from random import randint\n",
    "\n",
    "def rotation_profil_test(norm_radius, param=None): #definition of the rotation profil, only one vector composed by all the \n",
    "    #parameters of the function is used to make easier the call of the function by others functions\n",
    "    sigma=param[0]\n",
    "    R_0=param[1]\n",
    "    R_surf=param[2]\n",
    "    return R_0*np.exp(-pow(10000*norm_radius/sigma,6))+R_surf"
   ]
  },
  {
   "cell_type": "markdown",
   "metadata": {},
   "source": [
    "Now let's define the number of points in the radius, N, we also create the normalized radius 'array' here and call the rotation profil function to build it."
   ]
  },
  {
   "cell_type": "code",
   "execution_count": null,
   "metadata": {},
   "outputs": [],
   "source": [
    "N=10000 #number of point in the rotation profil and normalized radius\n",
    "\n",
    "normalized_radius=np.linspace(0,1,N) #definition of the normalized radiues i.e. radius of the star normalized it's radius\n",
    "\n",
    "rotation_profil=rotation_profil_test(normalized_radius, param=[0.008*10000,1200,156]) #call of the rotation profil function and gives the parameters \n"
   ]
  },
  {
   "cell_type": "markdown",
   "metadata": {},
   "source": [
    "We have everything we needed, now we can create the file and write the data."
   ]
  },
  {
   "cell_type": "code",
   "execution_count": null,
   "metadata": {},
   "outputs": [],
   "source": [
    "with open('Omega0='+str(rotation_profil[0]), \"w\") as f: #open a file named 'Omega0=rotation profil at r=0' and allow write inside\n",
    "    f.write(\"#              r_c           om_c_tot\") #write the first line of the file\n",
    "    f.write('\\n#') #go th the next ligne and just put a #\n",
    "    f.write('\\n{}'.format(len(rotation_profil))) # go to the next line and write the number of data in the radius array\n",
    "       \n",
    "    for j in range(len(rotation_profil)):\n",
    "        f.write('\\n{}'.format(\"%.15E\" %normalized_radius[j])) \n",
    "        f.write(' {}'.format(\"%.15E\" %rotation_profil[j]))\n",
    "        # at each lign in the file the normalized radius will be written with the rotation assiotated\n",
    "        # this file structure is only here to be properly read by other softwares"
   ]
  },
  {
   "cell_type": "markdown",
   "metadata": {},
   "source": [
    "### Part 2:\n",
    "\n",
    "Now we are going to work with stellar models, or at least their summaries, in such file you can find the evolution of all the main quantities of a star as a function of the radius in the star. The star we used here is Kepler-56, and we are going to look at the density and temperature profile of this star given by these stellar models.\n",
    "First we need to get the path of the files with respect to the position of the notebook, then open these files and get the data from them:"
   ]
  },
  {
   "cell_type": "code",
   "execution_count": null,
   "metadata": {},
   "outputs": [],
   "source": [
    "path=glob.glob('Stellar_models/*') # with this you can get the path of all the files in the folder 'Stellar_models'\n",
    "mass=[] #initialisation the list of the mass given by the stellar model\n",
    "model_norm_radius=[] #initialisation of the normalized radius\n",
    "model_names=[] #initialisation of the name of the model given in the file name\n",
    "model_temperature=[]\n",
    "for i in path:\n",
    "    data=np.genfromtxt(i,skip_header=5,skip_footer=10, usecols =(1,2,4)) \n",
    "    #open and read the data skipping the 3 frist lines, the 10 lignes at the end \n",
    "    #and only taking the column number 1, 2 and 4 of the file (the 2,3 and 5 if you count from one)\n",
    "    #in the program now the column 0 is the column 1 of the file, the 1 is the 2 and 3 correspond to the 4th.\n",
    "    mass.append(data[:,1]) #append the mass of the model to the mass list\n",
    "    model_norm_radius.append(data[:,0]) #same for the normalized radius \n",
    "    model_temperature.append(data[:,2])#same\n",
    "    \n",
    "    #now we are going to learn how to open data from the name of your file, this can be useful when, like me, you\n",
    "    #name your files after the name of a model used or some data to distinguish them\n",
    "    i=i[(i.find('/')+1):] #you take the path, find the first \"/\" which is the of path after the folder, and only take the part after the \"/\"\n",
    "    i=i[(i.find('56')+2):] #find KEP56 (the name of the star) and take all that is after is the name of the model\n",
    "    #note: a shortcut for this is to directly search '56'\n",
    "\n",
    "    model_names.append(i[:(i.find('.xtl'))]) # supress name of the extension and add it to the name list\n",
    "    \n",
    "mass=np.array(mass) #build the array from the list\n",
    "model_norm_radius=np.array(model_norm_radius)\n",
    "model_names=np.array(model_names)\n",
    "model_temperature=np.array(model_temperature)"
   ]
  },
  {
   "cell_type": "markdown",
   "metadata": {},
   "source": [
    "We now have our data in four different array, each column represent one stellar model, it's now time to plot the cumulative mass vs radius and temperature vs radius on the same plot with different y axis for each:"
   ]
  },
  {
   "cell_type": "code",
   "execution_count": null,
   "metadata": {},
   "outputs": [],
   "source": [
    "#this little script creates an array composed of random color names, this is useful if you need to plot a large number of differents data\n",
    "colors = []\n",
    "for i in range(len(data)-1):\n",
    "    colors.append('#%06X' % randint(0, 0xFFFFFF))\n",
    "colors=np.array(colors)\n",
    "\n",
    "\n",
    "fig,ax = plt.subplots(figsize=(15,10))#create a plot with a size (15,10)\n",
    "ax2=ax.twinx() #create a second axis, the twin of the y axis \n",
    "for i in range(len(path)):\n",
    "    plt1=ax2.plot(model_norm_radius[i], mass[i], color=colors[i], lw=2, label='Cumulative_Mass_'+model_names[i]+r'$M_\\odot$')#plot the masses using the right y axis as scale\n",
    "    plt2=ax.plot(model_norm_radius[i], model_temperature[i], color=colors[i], lw=2, label='Temperature_'+model_names[i]+r'$M_\\odot$') #plot the temperature using the left y axis as scale\n",
    "\n",
    "ax.set_ylabel(r\"Temperature [$K$]\",fontsize=24) #set the label of the left y axis\n",
    "ax2.set_ylabel(r\"$m/M_*$\",fontsize=24)#set the label of the right y axis\n",
    "ax.set_xlabel(r'$r/R_*$',fontsize=24)#set the label of the x axis\n",
    "ax2.tick_params(axis='y', length=7, right=True, top=True, labelsize=24)# increase the size of the number in the scales\n",
    "ax.tick_params(axis='y',length=7, labelsize=24)\n",
    "ax.tick_params(axis='x', direction='inout', length=7, top=True, labelsize=24)\n",
    "ax2.set_ylim([0, 1.2])\n",
    "ax.set_ylim([1e4, 1e8])\n",
    "ax2.legend(loc=0)\n",
    "ax.set_yscale('log')# put a log scale\n",
    "ax.legend(fontsize=14) # creat the legend\n",
    "ax2.legend(fontsize=14, loc='upper left') # creat the legend for the second y axis\n",
    "plt.tight_layout()# let less blank space around the figure\n",
    "plt.savefig('T_M_vs_R_models.eps') # save the figure\n",
    "plt.show()"
   ]
  },
  {
   "cell_type": "markdown",
   "metadata": {},
   "source": [
    "The python part is finished, now just a bit of stellar physics. Our star, Kepler 56, have a very high density in the core, about $20\\%$ of its mass is concentrated in $1\\%$ of its radius, this typicaly the case of low mass stars during the Red Giant Branch (RGB). During this phase the helium core is contracting while the enveloppe expands and the hydrogene burn in a shell. The contraction results in an extremly high core density, the helium even becomes degenrated for stars with masses below $2.2 M_\\odot$. The other observations we can make is about the temperature in the core, this temperature is about twice the solar core temperature, at this point the dominating energy generation process become the CNO cycle.\n",
    "\n",
    "I you have any question regarding this exemple, or stellar physics in general (or even planets) do not hesitate to contact me: Loic.Fellay@etu.unige.ch\n",
    "\n",
    "___\n",
    "___"
   ]
  },
  {
   "cell_type": "markdown",
   "metadata": {},
   "source": [
    "## 3.3 Images of high red-shift galaxies\n",
    "by Kate"
   ]
  },
  {
   "cell_type": "markdown",
   "metadata": {},
   "source": [
    "We will study how to display fits using aplpy, marked the galaxies on this image and find the separation between them."
   ]
  },
  {
   "cell_type": "markdown",
   "metadata": {},
   "source": [
    "Here we import some liblaries. If you do not have any of this libraries please installit with `conda` or `pip`."
   ]
  },
  {
   "cell_type": "code",
   "execution_count": null,
   "metadata": {},
   "outputs": [],
   "source": [
    "import numpy as np\n",
    "import matplotlib.pyplot as plt\n",
    "from astropy.wcs import WCS\n",
    "from astropy.io import fits\n",
    "from astropy.utils.data import get_pkg_data_filename\n",
    "from astropy import units as u\n",
    "from astropy.coordinates import SkyCoord\n",
    "import aplpy\n",
    "\n",
    "\n",
    "%matplotlib notebook"
   ]
  },
  {
   "cell_type": "markdown",
   "metadata": {},
   "source": [
    "Read the data from '.dat' file and make an array of ra and dec from the first and second column."
   ]
  },
  {
   "cell_type": "code",
   "execution_count": null,
   "metadata": {},
   "outputs": [],
   "source": [
    "#read coorginates from file\n",
    "har2 = np.genfromtxt('CatGal_input.dat', dtype=None)\n",
    "har2_ra=np.array([har2['f1'][i].decode('utf-8') for i in range(len(har2))])\n",
    "har2_dec=np.array([har2['f2'][i].decode('utf-8') for i in range(len(har2))])\n"
   ]
  },
  {
   "cell_type": "markdown",
   "metadata": {},
   "source": [
    "Convert the coordinates into degree using Skycoord."
   ]
  },
  {
   "cell_type": "code",
   "execution_count": null,
   "metadata": {},
   "outputs": [],
   "source": [
    "dat= ['']*len(har2)\n",
    "for i in range(len(har2)):\n",
    "    dat[i] = SkyCoord(har2_ra[i],har2_dec[i], frame='icrs')"
   ]
  },
  {
   "cell_type": "markdown",
   "metadata": {},
   "source": [
    "Write the coordinates in file in the form of 2 colums."
   ]
  },
  {
   "cell_type": "code",
   "execution_count": null,
   "metadata": {},
   "outputs": [],
   "source": [
    "har = open(\"Output.dat\", \"w\")\n",
    "ter=['']*len(har2)\n",
    "for i in range(len(har2)):\n",
    "    #ter=['']*len(har2)\n",
    "    ter[i]=dat[i].to_string('decimal')\n",
    "    har.write(ter[i])\n",
    "    har.write('  \\n')\n",
    "    \n",
    "har.close()"
   ]
  },
  {
   "cell_type": "markdown",
   "metadata": {},
   "source": [
    "Read the file and create 2 arrays."
   ]
  },
  {
   "cell_type": "code",
   "execution_count": null,
   "metadata": {},
   "outputs": [],
   "source": [
    "#read from file\n",
    "data = np.loadtxt('Output.dat')\n",
    "ra1, dec1 = data[:, 0], data[:, 1]"
   ]
  },
  {
   "cell_type": "markdown",
   "metadata": {},
   "source": [
    "Compute the separation  between 2 galaxies and find pair where the separation is less than 3.1 arcsecond."
   ]
  },
  {
   "cell_type": "code",
   "execution_count": null,
   "metadata": {},
   "outputs": [],
   "source": [
    "#selected galaxies with separation less than 3.1 arcsecond\n",
    "for i in range (0,52):\n",
    "    for j in range (i+1,len(data)):\n",
    "        c1 = SkyCoord(ra=ra1[i]*u.degree, dec=dec1[i]*u.degree, frame='fk5')\n",
    "        c2 = SkyCoord(ra=ra1[j]*u.degree, dec=dec1[j]*u.degree, frame='fk5')\n",
    "        sep = c1.separation(c2)\n",
    "        if abs(sep.arcsecond)<3.1:\n",
    "            print('separation=',sep.arcsecond,'ra 1 point=',ra1[i],i,j,'dec 1 point=',dec1[i],'ra 2 point=',ra1[j],'dec 2 point=',dec1[j])"
   ]
  },
  {
   "cell_type": "markdown",
   "metadata": {},
   "source": [
    "Display galaxies on the image of the field and center the image on the one of the selected galaxies."
   ]
  },
  {
   "cell_type": "code",
   "execution_count": null,
   "metadata": {},
   "outputs": [],
   "source": [
    "#display fits and marked some selected galaxies\n",
    "fig = aplpy.FITSFigure('hlsp_xdf_hst_wfc3ir-60mas_hudf_f160w_v1_sci.fits', figsize=(10, 10))\n",
    "fig.show_grayscale()\n",
    "fig.add_grid()\n",
    "fig.add_scalebar(length=1 * u.arcsecond)\n",
    "fig.scalebar.set_corner('top right')\n",
    "fig.scalebar.set_label(sep.arcsecond)\n",
    "fig.scalebar.set_color('white')\n",
    "plt.tight_layout()\n",
    "fig.show_grayscale(stretch='linear',vmax=0.0075,vmin=-0.001)\n",
    "fig.show_markers(ra1[25],dec1[25], edgecolor='red', facecolor='none',marker='o', s=500, alpha=3)\n",
    "fig.show_markers(ra1[43],dec1[43], edgecolor='aqua', facecolor='none',marker='o', s=500, alpha=1)\n",
    "fig.recenter(ra1[25], dec1[25], radius=.003)\n",
    "fig.save('plot1.png')"
   ]
  },
  {
   "cell_type": "code",
   "execution_count": null,
   "metadata": {},
   "outputs": [],
   "source": [
    "#display fits and marked some selected galaxies\n",
    "fig = aplpy.FITSFigure('hlsp_xdf_hst_wfc3ir-60mas_hudf_f160w_v1_sci.fits', figsize=(10, 10))\n",
    "fig.show_grayscale()\n",
    "fig.add_grid()\n",
    "fig.add_scalebar(length=1 * u.arcsecond)\n",
    "fig.scalebar.set_corner('top right')\n",
    "fig.scalebar.set_label(sep.arcsecond)\n",
    "fig.scalebar.set_color('white')\n",
    "plt.tight_layout()\n",
    "fig.show_grayscale(stretch='linear',vmax=0.0075,vmin=-0.001)\n",
    "fig.show_markers(ra1[44],dec1[44], edgecolor='red', facecolor='none',marker='o', s=400, alpha=3)\n",
    "fig.show_markers(ra1[5],dec1[5], edgecolor='green', facecolor='none',marker='o', s=400, alpha=1)\n",
    "fig.recenter(ra1[46], dec1[46], radius=.002)\n",
    "fig.save('plot2.png')"
   ]
  },
  {
   "cell_type": "markdown",
   "metadata": {},
   "source": [
    "In case of any doubt please contact Kate at: Ekaterina.Leonova@etu.unige.ch or by using the `slack` channel."
   ]
  }
 ],
 "metadata": {
  "kernelspec": {
   "display_name": "Python 3",
   "language": "python",
   "name": "python3"
  },
  "language_info": {
   "codemirror_mode": {
    "name": "ipython",
    "version": 3
   },
   "file_extension": ".py",
   "mimetype": "text/x-python",
   "name": "python",
   "nbconvert_exporter": "python",
   "pygments_lexer": "ipython3",
   "version": "3.7.3"
  }
 },
 "nbformat": 4,
 "nbformat_minor": 2
}
