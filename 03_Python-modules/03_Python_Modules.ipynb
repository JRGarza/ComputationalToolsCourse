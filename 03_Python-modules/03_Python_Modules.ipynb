{
 "cells": [
  {
   "cell_type": "markdown",
   "metadata": {},
   "source": [
    "# 3. Modules of `python`  applied to astrophysics"
   ]
  },
  {
   "cell_type": "markdown",
   "metadata": {},
   "source": [
    "In this section we will do some excercises linked to astrophysical problems to see the importance of learning how to use the modules `numpy`, `matplotlib`, `astropy`, `pandas`, and others.\n",
    "\n",
    "It is important to note that the aim of this course is not to give a broad explanation on all the functiona available on each module. We encourage you to see the documentation of each module if you need more specific information on this subject.\n",
    "\n",
    "`numpy` : https://numpy.org/doc/\n",
    "\n",
    "`matplotlib` : https://matplotlib.org/contents\n",
    "\n",
    "`pandas` : https://pandas.pydata.org/docs/\n",
    "\n",
    "`astropy` : https://docs.astropy.org/en/stable/\n",
    "\n",
    "___"
   ]
  },
  {
   "cell_type": "markdown",
   "metadata": {},
   "source": [
    "## 3.1 Isolated binary evolution and gravitational wave sources\n",
    "\n",
    "In the folowing excercise we will use the date from simulated binary stars. Such simulations were done by using the code `cosmic` (Breivik et al. 2020) to learn more about the code please see : https://cosmic-popsynth.github.io/"
   ]
  },
  {
   "cell_type": "code",
   "execution_count": null,
   "metadata": {},
   "outputs": [],
   "source": [
    "import numpy as np\n",
    "import matplotlib.pyplot as plt\n",
    "import pandas as pd"
   ]
  },
  {
   "cell_type": "markdown",
   "metadata": {},
   "source": [
    "First we will use `pandas` to import the data that is in the file `binaries.csv`"
   ]
  },
  {
   "cell_type": "code",
   "execution_count": null,
   "metadata": {},
   "outputs": [],
   "source": [
    "binaries = pd.read_csv('binaries.csv' , index_col = 0) #index_col = 0 is used to tell the function to take the column 0 as the index column"
   ]
  },
  {
   "cell_type": "code",
   "execution_count": null,
   "metadata": {},
   "outputs": [],
   "source": [
    "\"\"\"\n",
    "The binaries variable where the data is storaged is called a DataFrame. Such\n",
    "type is how pandas give structure to a data table. It is similar to numpy arrays\n",
    "but you can mix the data type of the elements inside a column. It is more \n",
    "convenient to use DataFrames while working with data as it is more clear when \n",
    "we call a certain column or set \n",
    "\"\"\"\n",
    "type(binaries)"
   ]
  },
  {
   "cell_type": "code",
   "execution_count": null,
   "metadata": {
    "scrolled": true
   },
   "outputs": [],
   "source": [
    "binaries"
   ]
  },
  {
   "cell_type": "markdown",
   "metadata": {},
   "source": [
    "The column `bin_num` refers to the index of each binary, as here we have each evolutionary step for each binary.\n",
    "\n",
    "For example if we display all the information where `bin_num = 0` we will print the whole evolution of the first (0th) binary. If we want the info of the 100th binary star then we need to show where `bin_num = 99`.\n",
    "\n",
    "A brief description on the columns of `binaries` DataDrame:\n",
    "\n",
    "- `tphys` is the physical time of the evolution of the binary after the birth, i.e. the start of core H burning. The units are $Myr$.\n",
    "\n",
    "- `mass_1` and `mass_2` is the mass of each star in the binary. The units are $M_\\odot$.\n",
    "\n",
    "- `kstar_1` and `kstar_2` are the evolutionary state of each star respectivaly. Each state is described as:\n",
    "\n",
    "    -`MS` : Main Sequence\n",
    "    \n",
    "    -`HGap` : Hertzsprung Gap\n",
    "    \n",
    "    -`fGB` : first Giant Branch\n",
    "    \n",
    "    -`cHeBurn` : core He Burning\n",
    "    \n",
    "    -`eAGB` : early Asymptotic Giant Branch\n",
    "    \n",
    "    -`TPAGB` : Thermally Pulsing AGB\n",
    "    \n",
    "    -`HeMS` : naked He Main Sequence star\n",
    "    \n",
    "    -`PostHeMS` : naked He  Post Main Sequence star\n",
    "    \n",
    "    -`WD` : White Dwarf\n",
    "    \n",
    "    -`BH` : Black Hole\n",
    "    \n",
    "    -`MlessRmnt` : Massless Remnant\n",
    "    \n",
    "    \n",
    "- `sep` is the orbital separation of the binary. The units are $R_\\odot$.\n",
    "\n",
    "- `ecc` is the eccentricity of the orbit.\n",
    "\n",
    "There are a lot of other parameters but we will not take them into account. "
   ]
  },
  {
   "cell_type": "code",
   "execution_count": null,
   "metadata": {},
   "outputs": [],
   "source": [
    "\"\"\"\n",
    "To see all the columns that the DataFrame has you can use the columns atribute \n",
    "\"\"\"\n",
    "binaries.columns"
   ]
  },
  {
   "cell_type": "markdown",
   "metadata": {},
   "source": [
    "To access the data inside a DataFrame we use the folowing syntax:\n",
    "\n",
    "```python\n",
    "DataFrame[ condition ]\n",
    "```\n",
    "\n",
    "In contrast to `numpy` arrays and `lists` the DataFrame does not search in terms of indices but in terms of **logical conditions**. The `condition` is a logical expresion that gives an array of booleans the same size as the number of rows in the DataFrame.\n",
    "\n",
    "If we want to print the information of the first binary, that is `bin_num = 0` then we type:"
   ]
  },
  {
   "cell_type": "code",
   "execution_count": null,
   "metadata": {
    "scrolled": false
   },
   "outputs": [],
   "source": [
    "binaries[ binaries['bin_num'] == 0 ]"
   ]
  },
  {
   "cell_type": "markdown",
   "metadata": {},
   "source": [
    "If we want to print the information given the index of a column then we have to use the `loc[]` method, as\n",
    "\n",
    "```python\n",
    "DataFrame.loc[ rows , columns_to_print ]\n",
    "```\n",
    "\n",
    "where \n",
    "\n",
    "- `rows` is the index row, or array of indices, of the columns to print.\n",
    "- `columns_to_print` is the name of the column, or array of the names of the column, to print. If tou want to print all columns then use `:`\n",
    "\n",
    "\n",
    "To print all the columns for the first row we type:"
   ]
  },
  {
   "cell_type": "code",
   "execution_count": null,
   "metadata": {
    "scrolled": false
   },
   "outputs": [],
   "source": [
    "binaries.loc[ 0 , : ]"
   ]
  },
  {
   "cell_type": "markdown",
   "metadata": {},
   "source": [
    "If I want to print the eccentricity and physical time only for the first, 10th and 20th rows then I type:"
   ]
  },
  {
   "cell_type": "code",
   "execution_count": null,
   "metadata": {},
   "outputs": [],
   "source": [
    "binaries.loc[ [0 , 9, 19] , ['ecc', 'tphys'] ]"
   ]
  },
  {
   "cell_type": "markdown",
   "metadata": {},
   "source": [
    "___"
   ]
  },
  {
   "cell_type": "markdown",
   "metadata": {},
   "source": [
    "**Next task:*** lets plot the distribution of the initial eccentricities, that is all `ecc` at `tphys = 0`. To do that we will use the `hist` function from `matplotlib.pyplot`. This is a very simple way to plot an histogram, as we only need the data to distribute:\n",
    "\n",
    "```python\n",
    "plt.hist( data , bins )\n",
    "```\n",
    "\n",
    "where:\n",
    "\n",
    "- `data` is the data to distribute in the histogram.\n",
    "- `bins` is the criterion to compute how many bins the histogram will have\n",
    "\n",
    "For more information onthis function please see https://matplotlib.org/3.3.1/api/_as_gen/matplotlib.pyplot.hist.html"
   ]
  },
  {
   "cell_type": "code",
   "execution_count": null,
   "metadata": {},
   "outputs": [],
   "source": [
    "plt.figure(figsize=(12,7))\n",
    "\n",
    "plt.xticks( fontsize = 20 )\n",
    "plt.yticks( [] , fontsize = 20 )\n",
    "\n",
    "plt.xlabel(r'$e_{initial}$' , fontsize = 25)\n",
    "\n",
    "\n",
    "plt.xlim(0 , 1)\n",
    "\n",
    "plt.hist(binaries[ binaries['tphys'] == 0.0 ]['ecc'] , bins='sqrt' )\n",
    "\n",
    "plt.show()"
   ]
  },
  {
   "cell_type": "markdown",
   "metadata": {},
   "source": [
    "We want extract the ammount of binaries that form binary black-holes in closed orbits. The columns `kstar_1` and `kstar_2` encode the information of the evolutionary phase of each star. If `star_1` is a black-hole then `kstar_1 = BH`. A binary black hole is a system where `kstar_1 = BH` and `kstar_2 = BH`. In a closed orbit the eccentricity $e$ is in the range $[0,1)$."
   ]
  },
  {
   "cell_type": "code",
   "execution_count": null,
   "metadata": {
    "scrolled": true
   },
   "outputs": [],
   "source": [
    "binaries[(binaries['kstar_1'] == 'BH') & (binaries['kstar_2'] == 'BH') & \n",
    "         (binaries['ecc'] >= 0) & (binaries['ecc'] < 1 ) ]['bin_num']"
   ]
  },
  {
   "cell_type": "markdown",
   "metadata": {},
   "source": [
    "In the previous result we have all the `bin_num` that correspond to binary black-holes in closed orbits. We can see that the values are repeated this is because there is a evolutionary step printed in the table from the formation of the second black-hole the final physical time used to run the simulation. \n",
    "\n",
    "If we want to display the `bin_num` values, we can use the `unique` function form `numpy`. Such function takes an array and displays its values without any repetition."
   ]
  },
  {
   "cell_type": "code",
   "execution_count": null,
   "metadata": {},
   "outputs": [],
   "source": [
    "np.unique(binaries[(binaries['kstar_1'] == 'BH') & (binaries['kstar_2'] == 'BH') & \n",
    "                   (binaries['ecc'] >= 0) & (binaries['ecc'] < 1 ) ]['bin_num'])"
   ]
  },
  {
   "cell_type": "markdown",
   "metadata": {},
   "source": [
    "Now let's save such `bin_num` values in a variable called `BBH`"
   ]
  },
  {
   "cell_type": "code",
   "execution_count": null,
   "metadata": {},
   "outputs": [],
   "source": [
    "BBH = np.unique(binaries[(binaries['kstar_1'] == 'BH') & (binaries['kstar_2'] == 'BH') & \n",
    "                   (binaries['ecc'] >= 0) & (binaries['ecc'] < 1 ) ]['bin_num'])"
   ]
  },
  {
   "cell_type": "code",
   "execution_count": null,
   "metadata": {},
   "outputs": [],
   "source": [
    "print(f'The number of binary black-holes in closed orbits is {len(BBH)}')"
   ]
  },
  {
   "cell_type": "markdown",
   "metadata": {},
   "source": [
    "___"
   ]
  },
  {
   "cell_type": "markdown",
   "metadata": {},
   "source": [
    "Let's display the whole evolution of one of binary black-hole progenitor:"
   ]
  },
  {
   "cell_type": "code",
   "execution_count": null,
   "metadata": {
    "scrolled": false
   },
   "outputs": [],
   "source": [
    "binaries[ binaries['bin_num'] == BBH[0] ]"
   ]
  },
  {
   "cell_type": "markdown",
   "metadata": {},
   "source": [
    "Now let's get the information of the binary just when the binary black-holes has been created. As black-holes are formed from massive stars, such massive stars evolve quickly, let's consider that the binary black-hole has to be formed in less than $100\\ Myr$, so we are searching for a step with `tphys < 100`, `kstar_1 = BH`, `kstar_2 = BH` for the binary displayed above."
   ]
  },
  {
   "cell_type": "code",
   "execution_count": null,
   "metadata": {},
   "outputs": [],
   "source": [
    "binaries[(binaries['bin_num'] == BBH[0]) & \n",
    "         (binaries['kstar_1'] == 'BH') & \n",
    "         (binaries['kstar_2'] == 'BH') & \n",
    "         (binaries['tphys'] < 100)]"
   ]
  },
  {
   "cell_type": "markdown",
   "metadata": {},
   "source": [
    "Let's save the previous information in a variable called `BBH_binary`"
   ]
  },
  {
   "cell_type": "code",
   "execution_count": null,
   "metadata": {},
   "outputs": [],
   "source": [
    "BBH_binary = binaries[(binaries['bin_num'] == BBH[0]) & \n",
    "                      (binaries['kstar_1'] == 'BH') & \n",
    "                      (binaries['kstar_2'] == 'BH') & \n",
    "                      (binaries['tphys'] < 100)]"
   ]
  },
  {
   "cell_type": "markdown",
   "metadata": {},
   "source": [
    "If we consider that the binary black-hole is in a isolated environment then the change on its orbit will not depend on any external interaction. The orbital separation will shrink due to angular momentum loss by gravitational wave radiation. The time it takes for the binary to merge, i.e. readh an orbital separation of zero, due to gravitational wave radiation is given by (Peters, 1964) as\n",
    "\n",
    "# $T_{merger}(a , e , m_{BH,1} , m_{BH,2}) = \\frac{12}{19} \\frac{c_0^4}{\\beta} \\int_0^e \\frac{e'^{\\frac{29}{19}} (1 + (121\\ /\\ 304) e'^4 )^{1181\\ /\\ 2299}}{ (1-e'^2)^{3/2} } de'$\n",
    "\n",
    "where\n",
    "\n",
    "# $\\frac{1}{c_0} \\equiv \\frac{a\\ e^{12/19} }{1-e^2} \\left( 1 +\\frac{121}{304} e^2 \\right)^{870\\ /\\ 2299}$\n",
    "\n",
    "# $\\beta \\equiv \\frac{64}{5} \\frac{G^3\\ m_{BH,1}\\ m_{BH,2}\\ (m_{BH,1} + m_{BH,2})}{c^5}$\n",
    "\n",
    "and \n",
    "- $a$ is the orbital separation of the binary,\n",
    "- $e$ is the eccentricity of the binary,\n",
    "- $m_{BH,1}$ and $m_{BH,1}$ are the masses of each black-hole\n",
    "\n",
    "# Ex. Create a function that computes the time it takes for the binary black-hole to merge due to gravitational wave radiation after the formation of the second black-hole."
   ]
  },
  {
   "cell_type": "markdown",
   "metadata": {},
   "source": [
    "First, some help. You can use the `astropy` units and constants to make the operations easier. The masses of each object in the binary table are given in $M_\\odot$, and the obital separation `sep` is given in $R_\\odot$. \n",
    "\n",
    "The computation of $\\beta$ will be given bellow as an example "
   ]
  },
  {
   "cell_type": "code",
   "execution_count": null,
   "metadata": {},
   "outputs": [],
   "source": [
    "import astropy.units as u\n",
    "import astropy.constants as cnt"
   ]
  },
  {
   "cell_type": "code",
   "execution_count": null,
   "metadata": {},
   "outputs": [],
   "source": [
    "mass_BH1 = float(BBH_binary['mass_1']) * cnt.M_sun # We need to convert the BBH_binary['mass_1'] to float\n",
    "mass_BH2 = float(BBH_binary['mass_2']) * cnt.M_sun # as pandas DataFrames are not compatible with astropy units\n",
    "a = float(BBH_binary['sep']) * cnt.R_sun\n",
    "e = float(BBH_binary['ecc']) \n",
    "\n",
    "G = cnt.G\n",
    "c = cnt.c"
   ]
  },
  {
   "cell_type": "code",
   "execution_count": null,
   "metadata": {},
   "outputs": [],
   "source": [
    "beta = (64./5.)*(G**3 * mass_BH1 * mass_BH2 * (mass_BH1 + mass_BH2))/(c**5)\n",
    "beta"
   ]
  },
  {
   "cell_type": "markdown",
   "metadata": {},
   "source": [
    "To perform the integral you can use you can use `scipy.integrate.quad`, the documentation of the function is here: https://docs.scipy.org/doc/scipy/reference/generated/scipy.integrate.quad.html\n",
    "\n",
    "As an example, you can compute $\\int_0^4\\ x^2\\ dx$ with such function as"
   ]
  },
  {
   "cell_type": "code",
   "execution_count": null,
   "metadata": {},
   "outputs": [],
   "source": [
    "from scipy import integrate\n",
    "x2 = lambda x: x**2\n",
    "integral = integrate.quad(x2, 0, 4)\n",
    "\n",
    "print(f'The result of the integral is {integral[0]}')"
   ]
  },
  {
   "cell_type": "code",
   "execution_count": null,
   "metadata": {},
   "outputs": [],
   "source": [
    "\"\"\"\n",
    "Write your code in this cell\n",
    "\"\"\"\n",
    "def T_merger(a , e, mass_BH1 , mass_BH2):\n",
    "    mass_BH1 = float(BBH_binary['mass_1']) * cnt.M_sun \n",
    "    mass_BH2 = float(BBH_binary['mass_2']) * cnt.M_sun \n",
    "    a = float(BBH_binary['sep']) * cnt.R_sun\n",
    "    e = float(BBH_binary['ecc']) \n",
    "\n",
    "    G = cnt.G\n",
    "    c = cnt.c\n",
    "    \n",
    "    beta = (64./5.)*(G**3 * mass_BH1 * mass_BH2 * (mass_BH1 + mass_BH2))/(c**5)\n",
    "    \n",
    "    c0 = a /( e**(12/19) * (1 + (121/304)*e**2.0)**(870./2299.) / (1.0 - e**2.0))\n",
    "    \n",
    "    f_ep = lambda ep: ep**(29/19)*(1. + (121./304)*ep**2.)**(1181/2299) / ((1. - ep**2)**(3/2))\n",
    "    \n",
    "    integral = integrate.quad(f_ep, 0.0, e)[0]\n",
    "    \n",
    "    t = (12/19)*(c0**4.0 / beta) * integral\n",
    "    \n",
    "    \n",
    "    return t.to('Gyr')\n",
    "\n",
    "print(f' The time to merge due to GW radiation for the BBH is {T_merger(a , e, mass_BH1 , mass_BH2)}')\n"
   ]
  },
  {
   "cell_type": "markdown",
   "metadata": {},
   "source": [
    "## Is $T_{merger}$ less than the age of the Universe?\n",
    "\n",
    "You can use the `astropy.cosmology` to get cosmological parameters. As a first order the age of the Univers is\n",
    "## $t \\sim \\frac{1}{H_0}$\n",
    "where $H_0$ is the Hubble constant."
   ]
  },
  {
   "cell_type": "code",
   "execution_count": null,
   "metadata": {},
   "outputs": [],
   "source": [
    "from astropy.cosmology import Planck13 as cosmo\n",
    "\n",
    "cosmic_age = (1. / cosmo.H(0)).to('Gyr')\n",
    "\n",
    "print(f'The age of the Universe is {cosmic_age}')"
   ]
  },
  {
   "cell_type": "markdown",
   "metadata": {},
   "source": [
    "### Final note:\n",
    "\n",
    "Binary population studies for gravitational wave sources use a similar analysis to the one described in this excercise. Works, such as \n",
    "\n",
    "    Giacobbo, N., & Mapelli, M. (2018). The progenitors of compact-object binaries: impact of metallicity, common envelope and natal kicks. Monthly Notices of the Royal Astronomical Society, 480(2), 2011-2030.\n",
    "    \n",
    "distribute compact binaries with in star formation history of the Universe and assume a cosmology to predict the merger densities of compact binaries.\n",
    "\n",
    "In the paper\n",
    "\n",
    "    Bavera, S. S., Fragos, T., Qin, Y., Zapartas, E., Neijssel, C. J., Mandel, I., ... & Stevenson, S. (2020). The origin of spin in binary black holes-Predicting the distributions of the main observables of Advanced LIGO. Astronomy & Astrophysics, 635, A97.\n",
    "   \n",
    "The expected merger desnities for binary black-holes are convoluted with the LIGO sensitivity to predict the rates of observed gravitational wave signals for LIGO. "
   ]
  },
  {
   "cell_type": "markdown",
   "metadata": {},
   "source": [
    "___\n",
    "___"
   ]
  },
  {
   "cell_type": "code",
   "execution_count": null,
   "metadata": {},
   "outputs": [],
   "source": []
  }
 ],
 "metadata": {
  "kernelspec": {
   "display_name": "Python 3",
   "language": "python",
   "name": "python3"
  },
  "language_info": {
   "codemirror_mode": {
    "name": "ipython",
    "version": 3
   },
   "file_extension": ".py",
   "mimetype": "text/x-python",
   "name": "python",
   "nbconvert_exporter": "python",
   "pygments_lexer": "ipython3",
   "version": "3.7.3"
  }
 },
 "nbformat": 4,
 "nbformat_minor": 2
}
