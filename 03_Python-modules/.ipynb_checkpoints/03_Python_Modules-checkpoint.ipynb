{
 "cells": [
  {
   "cell_type": "markdown",
   "metadata": {},
   "source": [
    "# 3. Modules of `python`  applied to astrophysics"
   ]
  },
  {
   "cell_type": "markdown",
   "metadata": {},
   "source": [
    "In this section we will do some excercises linked to astrophysical problems to see the importance of learning how to use the modules `numpy`, `matplotlib`, `astropy`, `pandas`, and others.\n",
    "\n",
    "It is important to note that the aim of this course is not to give a broad explanation on all the functiona available on each module. We encourage you to see the documentation of each module if you need more specific information on this subject.\n",
    "\n",
    "`numpy` : https://numpy.org/doc/\n",
    "\n",
    "`matplotlib` : https://matplotlib.org/contents\n",
    "\n",
    "`pandas` : https://pandas.pydata.org/docs/\n",
    "\n",
    "`astropy` : https://docs.astropy.org/en/stable/\n",
    "\n",
    "___"
   ]
  },
  {
   "cell_type": "markdown",
   "metadata": {},
   "source": [
    "## 3.1 Isolated binary evolution and gravitational wave sources\n",
    "\n",
    "In the folowing excercise we will use the date from simulated binary stars. Such simulations were done by using the code `cosmic` (Breivik et al. 2020) to learn more about the code please see : https://cosmic-popsynth.github.io/"
   ]
  },
  {
   "cell_type": "code",
   "execution_count": null,
   "metadata": {},
   "outputs": [],
   "source": [
    "import numpy as np\n",
    "import matplotlib.pyplot as plt\n",
    "import pandas as pd"
   ]
  },
  {
   "cell_type": "markdown",
   "metadata": {},
   "source": [
    "First we will use `pandas` to import the data that is in the file `binaries.csv`"
   ]
  },
  {
   "cell_type": "code",
   "execution_count": null,
   "metadata": {},
   "outputs": [],
   "source": [
    "binaries = pd.read_csv('binaries.csv' , index_col = 0)"
   ]
  },
  {
   "cell_type": "code",
   "execution_count": null,
   "metadata": {
    "scrolled": true
   },
   "outputs": [],
   "source": [
    "binaries.reset_index(col_level = 0)"
   ]
  },
  {
   "cell_type": "markdown",
   "metadata": {},
   "source": [
    "The column `bin_num` refers to the index of each binary, as here we have each evolutionary step for each binary.\n",
    "\n",
    "For example if we display all the information where `bin_num = 0` we will print the whole evolution of the first (0th) binary. If we want the info of the 100th binary star then we need to show where `bin_num = 99`"
   ]
  },
  {
   "cell_type": "code",
   "execution_count": null,
   "metadata": {
    "scrolled": true
   },
   "outputs": [],
   "source": [
    "binaries[ binaries['bin_num'] == 0 ]"
   ]
  },
  {
   "cell_type": "markdown",
   "metadata": {},
   "source": [
    "Lets plot the distribution of the initial eccentricities, that is`ecc` at `tphys = 0`:"
   ]
  },
  {
   "cell_type": "code",
   "execution_count": null,
   "metadata": {},
   "outputs": [],
   "source": [
    "plt.figure(figsize=(12,7))\n",
    "\n",
    "plt.xticks( fontsize = 20 )\n",
    "plt.yticks( fontsize = 20 )\n",
    "\n",
    "plt.xlabel(r'$e_{initial}$' , fontsize = 25)\n",
    "\n",
    "plt.xlim(0 , 1)\n",
    "\n",
    "plt.hist(binaries[ binaries['tphys'] == 0.0 ]['ecc'] , bins='sqrt' , density = True)\n",
    "\n",
    "plt.show()"
   ]
  },
  {
   "cell_type": "markdown",
   "metadata": {},
   "source": [
    "We want extract the ammount of binaries that form binary black-holes in closed orbits. The columns `kstar_1` and `kstar_2` encode the information of the evolutionary phase of each star. If `star_1` is a black-hole then `kstar_1 = 14`. A binary black hole is a system where `kstar_1 = 14` and `kstar_2 = 14`. In a closed orbit the eccentricity $e$ is in the range $[0,1)$."
   ]
  },
  {
   "cell_type": "code",
   "execution_count": null,
   "metadata": {
    "scrolled": true
   },
   "outputs": [],
   "source": [
    "binaries[(binaries['kstar_1'] == 14) & (binaries['kstar_2'] == 14) & \n",
    "         (binaries['ecc'] >= 0) & (binaries['ecc'] < 1 ) ]['bin_num']"
   ]
  },
  {
   "cell_type": "code",
   "execution_count": null,
   "metadata": {},
   "outputs": [],
   "source": [
    "BBH = np.unique(binaries[(binaries['kstar_1'] == 14) & (binaries['kstar_2'] == 14) & \n",
    "                         (binaries['ecc'] >= 0) & (binaries['ecc'] < 1 ) ]['bin_num'])"
   ]
  },
  {
   "cell_type": "code",
   "execution_count": null,
   "metadata": {},
   "outputs": [],
   "source": [
    "print(f'The number of binary black-hole progenitors is {len(BBH)}')"
   ]
  },
  {
   "cell_type": "markdown",
   "metadata": {},
   "source": [
    "Let's display the whole evolution of one of binary black-hole progenitor:"
   ]
  },
  {
   "cell_type": "code",
   "execution_count": null,
   "metadata": {
    "scrolled": true
   },
   "outputs": [],
   "source": [
    "binaries[ binaries['bin_num'] == BBH[0] ]"
   ]
  },
  {
   "cell_type": "code",
   "execution_count": null,
   "metadata": {},
   "outputs": [],
   "source": [
    "binaries[(binaries['bin_num'] == BBH[0]) & \n",
    "         (binaries['kstar_1'] == 14) & \n",
    "         (binaries['kstar_2'] == 14)]"
   ]
  },
  {
   "cell_type": "code",
   "execution_count": null,
   "metadata": {},
   "outputs": [],
   "source": [
    "t_BBH_formation = binaries[(binaries['bin_num'] == BBH[0]) & \n",
    "                           (binaries['kstar_1'] == 14) & \n",
    "                           (binaries['kstar_2'] == 14)]['tphys'].min()"
   ]
  },
  {
   "cell_type": "code",
   "execution_count": null,
   "metadata": {},
   "outputs": [],
   "source": [
    "binaries[(binaries['bin_num'] == BBH[0]) & (binaries['tphys'] == t_BBH_formation)]"
   ]
  },
  {
   "cell_type": "code",
   "execution_count": null,
   "metadata": {},
   "outputs": [],
   "source": [
    "BBH_binary = binaries[(binaries['bin_num'] == BBH[0]) & \n",
    "                      (binaries['tphys'] == t_BBH_formation) & \n",
    "                      (binaries['kstar_1'] == 14) & \n",
    "                      (binaries['kstar_2'] == 14)]\n",
    "BBH_binary"
   ]
  },
  {
   "cell_type": "markdown",
   "metadata": {},
   "source": [
    "If we consider that the binary black-hole is in a isolated environment then the change on its orbit will not depend on any external interaction. The orbital separation will shrink due to angular momentum loss by gravitational wave radiation. The time it takes for the binary to merge, i.e. readh an orbital separation of zero, due to gravitational wave radiation is given by (Peters, 1964) as\n",
    "\n",
    "# $T_{merger}(a , e) = \\frac{12}{19} \\frac{c_0^4}{\\beta} \\int_0^e \\frac{e^{\\frac{29}{19}} (1 + (121\\ /\\ 304) e^4 )^{1181\\ /\\ 2299}}{ (1-e^2)^{3/2} } de$\n",
    "\n",
    "where\n",
    "\n",
    "# $\\frac{1}{c_0} \\equiv \\frac{a\\ e^{12/19} }{1-e^2} \\left( 1 +\\frac{121}{304} e^2 \\right)^{870\\ /\\ 2299}$\n",
    "\n",
    "# $\\beta \\equiv \\frac{64}{5} \\frac{G^3\\ m_{BH,1}\\ m_{BH,2}\\ (m_{BH,1} + m_{BH,2})}{c^5}$\n",
    "\n",
    "and \n",
    "- $a$ is the orbital separation of the binary,\n",
    "- $e$ is the eccentricity of the binary,\n",
    "- $m_{BH,1}$ and $m_{BH,1}$ are the masses of each black-hole\n",
    "\n",
    "# Ex. Create a function that computes the time it takes for the binary black-hole to merge due to gravitational wave radiation after the formation of the second black-hole."
   ]
  },
  {
   "cell_type": "markdown",
   "metadata": {},
   "source": [
    "First, some help. You can use the `astropy` units and constants to make the operations easier. The masses of each object in the binary table are given in $M_\\odot$, and the obital separation `sep` is given in $R_\\odot$. \n",
    "\n",
    "The computation of $\\beta$ will be given bellow as an example "
   ]
  },
  {
   "cell_type": "code",
   "execution_count": null,
   "metadata": {},
   "outputs": [],
   "source": [
    "import astropy.units as u\n",
    "import astropy.constants as cnt"
   ]
  },
  {
   "cell_type": "code",
   "execution_count": null,
   "metadata": {},
   "outputs": [],
   "source": [
    "mass_BH1 = float(BBH_binary['mass_1']) * cnt.M_sun # We need to convert the BBH_binary['mass_1'] to float\n",
    "mass_BH2 = float(BBH_binary['mass_2']) * cnt.M_sun # as pandas DataFrames are not compatible with astropy units\n",
    "a = float(BBH_binary['sep']) * cnt.R_sun\n",
    "e = float(BBH_binary['ecc']) \n",
    "\n",
    "G = cnt.G\n",
    "c = cnt.c"
   ]
  },
  {
   "cell_type": "code",
   "execution_count": null,
   "metadata": {},
   "outputs": [],
   "source": [
    "beta = (64./5.)*(G**3 * mass_BH1 * mass_BH2 * (mass_BH1 + mass_BH2))/(c**5)\n",
    "beta"
   ]
  },
  {
   "cell_type": "markdown",
   "metadata": {},
   "source": [
    "To perform the integral you can use you can use `scipy.integrate.quad`, the documentation of the function is here: https://docs.scipy.org/doc/scipy/reference/generated/scipy.integrate.quad.html\n",
    "\n",
    "As an example, you can compute $\\int_0^4\\ x^2\\ dx$ with such function as"
   ]
  },
  {
   "cell_type": "code",
   "execution_count": null,
   "metadata": {},
   "outputs": [],
   "source": [
    "from scipy import integrate\n",
    "x2 = lambda x: x**2\n",
    "integral = integrate.quad(x2, 0, 4)\n",
    "\n",
    "print(f'The result of the integral is {integral[0]}')"
   ]
  },
  {
   "cell_type": "code",
   "execution_count": null,
   "metadata": {},
   "outputs": [],
   "source": [
    "\"\"\"\n",
    "Write your code in this cell\n",
    "\"\"\"\n"
   ]
  },
  {
   "cell_type": "markdown",
   "metadata": {},
   "source": [
    "## Is $T_{merger}$ less than the age of the Universe?\n",
    "\n",
    "You can use the `astropy.cosmology` to get cosmological parameters. As a first order the age of the Univers is\n",
    "## $t \\sim \\frac{1}{H_0}$\n",
    "where $H_0$ is the Hubble constant."
   ]
  },
  {
   "cell_type": "code",
   "execution_count": null,
   "metadata": {},
   "outputs": [],
   "source": [
    "from astropy.cosmology import Planck13 as cosmo\n",
    "\n",
    "cosmic_age = (1. / cosmo.H(0)).to('Gyr')\n",
    "\n",
    "print(f'The age of the Universe is {cosmic_age}')"
   ]
  },
  {
   "cell_type": "markdown",
   "metadata": {},
   "source": [
    "___\n",
    "___"
   ]
  },
  {
   "cell_type": "code",
   "execution_count": null,
   "metadata": {},
   "outputs": [],
   "source": []
  }
 ],
 "metadata": {
  "kernelspec": {
   "display_name": "Python 3",
   "language": "python",
   "name": "python3"
  },
  "language_info": {
   "codemirror_mode": {
    "name": "ipython",
    "version": 3
   },
   "file_extension": ".py",
   "mimetype": "text/x-python",
   "name": "python",
   "nbconvert_exporter": "python",
   "pygments_lexer": "ipython3",
   "version": "3.7.3"
  }
 },
 "nbformat": 4,
 "nbformat_minor": 2
}
